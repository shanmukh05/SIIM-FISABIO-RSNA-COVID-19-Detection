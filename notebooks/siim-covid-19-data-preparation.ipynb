{
 "cells": [
  {
   "cell_type": "markdown",
   "id": "direct-indiana",
   "metadata": {
    "papermill": {
     "duration": 0.01898,
     "end_time": "2021-06-16T05:57:51.581440",
     "exception": false,
     "start_time": "2021-06-16T05:57:51.562460",
     "status": "completed"
    },
    "tags": []
   },
   "source": [
    "<h1 style=\"border-style: outset;border-color: red;text-align: center;\">SIIM-FISABIO-RSNA COVID-19 Dataset Preparation</h1>\n",
    "\n",
    "<img src=\"https://content.presspage.com/uploads/2110/1920_gettyimages-1216304354.jpg\" height=\"500\" width=\"500\" style=\"display: block;margin-left: auto;margin-right: auto;\"> \n",
    "\n",
    "<h2 style=\"text-align: center;border-style: double;text-align: center;border-color: red; \">About SIIM</h2>\n",
    "<img src=\"https://siim.org/resource/resmgr/SIIM_logo-600x315.png\" width=\"200\" style=\"display: block;margin-left: auto;margin-right: auto;\">\n",
    "<p> <b>Society for Imaging Informatics in Medicine</b> (<a href=\"https://siim.org/\">SIIM</a>) is the leading healthcare professional organization for those interested in the current and future use of informatics in medical imaging. The society's mission is to advance medical imaging informatics across the enterprise through education, research, and innovation in a multi-disciplinary community.</p>\n",
    "\n",
    "<a href = \"https://www.kaggle.com/shanmukh05/siim-covid19-dataset-256px-jpg\" style=\"font-weight:'bold'; color:blue; font-family:monospace; \"> <h3>My Dataset</h3></a>\n",
    "<a href = \"https://www.kaggle.com/shanmukh05/siim-covid-19-detection-detectron2-training\" style=\"font-weight:'bold'; color:blue; font-family:monospace; \"> <h3>My Training Notebook</h3></a> To be updated\n",
    "<a href = \"\" style=\"font-weight:'bold'; color:blue; font-family:monospace; \"> <h3>My Data Visualization Notebook</h3></a> Will be created soon\n",
    "<a href = \"\" style=\"font-weight:'bold'; color:blue; font-family:monospace; \"> <h3>My Inference Notebook</h3></a> Will be created soon."
   ]
  },
  {
   "cell_type": "code",
   "execution_count": 1,
   "id": "built-kidney",
   "metadata": {
    "_kg_hide-output": true,
    "execution": {
     "iopub.execute_input": "2021-06-16T05:57:51.621415Z",
     "iopub.status.busy": "2021-06-16T05:57:51.620289Z",
     "iopub.status.idle": "2021-06-16T05:59:01.441653Z",
     "shell.execute_reply": "2021-06-16T05:59:01.440707Z",
     "shell.execute_reply.started": "2021-05-23T02:07:28.846191Z"
    },
    "papermill": {
     "duration": 69.842377,
     "end_time": "2021-06-16T05:59:01.441854",
     "exception": false,
     "start_time": "2021-06-16T05:57:51.599477",
     "status": "completed"
    },
    "tags": []
   },
   "outputs": [
    {
     "name": "stdout",
     "output_type": "stream",
     "text": [
      "Collecting package metadata (current_repodata.json): - \b\b\\ \b\b| \b\b/ \b\b- \b\b\\ \b\b| \b\b/ \b\b- \b\b\\ \b\b| \b\b/ \b\b- \b\b\\ \b\b| \b\b/ \b\b- \b\b\\ \b\b| \b\b/ \b\b- \b\b\\ \b\b| \b\b/ \b\b- \b\b\\ \b\b| \b\b/ \b\b- \b\b\\ \b\b| \b\b/ \b\b- \b\b\\ \b\b| \b\b/ \b\b- \b\b\\ \b\b| \b\b/ \b\b- \b\b\\ \b\b| \b\b/ \b\b- \b\b\\ \b\b| \b\b/ \b\b- \b\b\\ \b\b| \b\b/ \b\b- \b\b\\ \b\b| \b\b/ \b\b- \b\b\\ \b\b| \b\b/ \b\b- \b\b\\ \b\b| \b\b/ \b\b- \b\b\\ \b\b| \b\b/ \b\b- \b\b\\ \b\b| \b\b/ \b\b- \b\b\\ \b\b| \b\b/ \b\b- \b\b\\ \b\b| \b\b/ \b\b- \b\b\\ \b\b| \b\b/ \b\b- \b\b\\ \b\b| \b\b/ \b\b- \b\b\\ \b\b| \b\b/ \b\b- \b\b\\ \b\b| \b\b/ \b\b- \b\b\\ \b\b| \b\b/ \b\b- \b\b\\ \b\b| \b\b/ \b\b- \b\b\\ \b\b| \b\b/ \b\b- \b\b\\ \b\b| \b\b/ \b\b- \b\b\\ \b\b| \b\b/ \b\b- \b\b\\ \b\b| \b\b/ \b\b- \b\b\\ \b\b| \b\b/ \b\b- \b\b\\ \b\b| \b\b/ \b\b- \b\b\\ \b\b| \b\b/ \b\b- \b\b\\ \b\b| \b\b/ \b\b- \b\b\\ \b\b| \b\b/ \b\b- \b\b\\ \b\b| \b\b/ \b\b- \b\b\\ \b\b| \b\b/ \b\b- \b\b\\ \b\b| \b\b/ \b\b- \b\b\\ \b\b| \b\b/ \b\bdone\r\n",
      "Solving environment: \\ \b\b| \b\b/ \b\b- \b\b\\ \b\b| \b\b/ \b\b- \b\b\\ \b\b| \b\b/ \b\b- \b\b\\ \b\b| \b\b/ \b\b- \b\b\\ \b\b| \b\b/ \b\b- \b\b\\ \b\b| \b\b/ \b\b- \b\b\\ \b\b| \b\b/ \b\b- \b\b\\ \b\b| \b\b/ \b\b- \b\b\\ \b\b| \b\b/ \b\b- \b\b\\ \b\b| \b\b/ \b\b- \b\b\\ \b\b| \b\b/ \b\b- \b\b\\ \b\b| \b\b/ \b\b- \b\b\\ \b\b| \b\b/ \b\b- \b\b\\ \b\b| \b\b/ \b\b- \b\b\\ \b\b| \b\b/ \b\b- \b\b\\ \b\b| \b\b/ \b\b- \b\b\\ \b\b| \b\b/ \b\b- \b\b\\ \b\b| \b\b/ \b\b- \b\b\\ \b\b| \b\b/ \b\b- \b\b\\ \b\b| \b\b/ \b\b- \b\b\\ \b\b| \b\b/ \b\b- \b\b\\ \b\b| \b\b/ \b\b- \b\b\\ \b\b| \b\b/ \b\b- \b\b\\ \b\b| \b\b/ \b\b- \b\b\\ \b\b| \b\b/ \b\b- \b\b\\ \b\b| \b\b/ \b\b- \b\b\\ \b\b| \b\b/ \b\b- \b\b\\ \b\b| \b\b/ \b\bdone\r\n",
      "\r\n",
      "## Package Plan ##\r\n",
      "\r\n",
      "  environment location: /opt/conda\r\n",
      "\r\n",
      "  added / updated specs:\r\n",
      "    - gdcm\r\n",
      "\r\n",
      "\r\n",
      "The following packages will be downloaded:\r\n",
      "\r\n",
      "    package                    |            build\r\n",
      "    ---------------------------|-----------------\r\n",
      "    ca-certificates-2021.5.30  |       ha878542_0         136 KB  conda-forge\r\n",
      "    certifi-2021.5.30          |   py37h89c1867_0         141 KB  conda-forge\r\n",
      "    gdcm-2.8.9                 |   py37h5d359c0_2         3.4 MB  conda-forge\r\n",
      "    libjpeg-turbo-2.1.0        |       h7f98852_0         987 KB  conda-forge\r\n",
      "    ------------------------------------------------------------\r\n",
      "                                           Total:         4.7 MB\r\n",
      "\r\n",
      "The following NEW packages will be INSTALLED:\r\n",
      "\r\n",
      "  gdcm               conda-forge/linux-64::gdcm-2.8.9-py37h5d359c0_2\r\n",
      "  libjpeg-turbo      conda-forge/linux-64::libjpeg-turbo-2.1.0-h7f98852_0\r\n",
      "\r\n",
      "The following packages will be UPDATED:\r\n",
      "\r\n",
      "  ca-certificates                      2020.12.5-ha878542_0 --> 2021.5.30-ha878542_0\r\n",
      "  certifi                          2020.12.5-py37h89c1867_1 --> 2021.5.30-py37h89c1867_0\r\n",
      "\r\n",
      "\r\n",
      "\r\n",
      "Downloading and Extracting Packages\r\n",
      "certifi-2021.5.30    | 141 KB    | ##################################### | 100% \r\n",
      "libjpeg-turbo-2.1.0  | 987 KB    | ##################################### | 100% \r\n",
      "gdcm-2.8.9           | 3.4 MB    | ##################################### | 100% \r\n",
      "ca-certificates-2021 | 136 KB    | ##################################### | 100% \r\n",
      "Preparing transaction: \\ \b\bdone\r\n",
      "Verifying transaction: / \b\b- \b\bdone\r\n",
      "Executing transaction: | \b\b/ \b\b- \b\b\\ \b\bdone\r\n"
     ]
    }
   ],
   "source": [
    "##---------------------------------\n",
    "# installing dependency for pydicom\n",
    "##---------------------------------\n",
    "\n",
    "!conda install gdcm -c conda-forge -y"
   ]
  },
  {
   "cell_type": "code",
   "execution_count": 2,
   "id": "heard-listing",
   "metadata": {
    "execution": {
     "iopub.execute_input": "2021-06-16T05:59:01.655703Z",
     "iopub.status.busy": "2021-06-16T05:59:01.654898Z",
     "iopub.status.idle": "2021-06-16T05:59:07.177054Z",
     "shell.execute_reply": "2021-06-16T05:59:07.176287Z",
     "shell.execute_reply.started": "2021-05-23T02:08:39.449539Z"
    },
    "papermill": {
     "duration": 5.632714,
     "end_time": "2021-06-16T05:59:07.177219",
     "exception": false,
     "start_time": "2021-06-16T05:59:01.544505",
     "status": "completed"
    },
    "tags": []
   },
   "outputs": [],
   "source": [
    "##--------------------------\n",
    "#importing required lbraries\n",
    "##--------------------------\n",
    "\n",
    "import numpy as np\n",
    "import pandas as pd\n",
    "\n",
    "import os\n",
    "import ast\n",
    "\n",
    "import PIL\n",
    "from PIL import Image\n",
    "import matplotlib.pyplot as plt\n",
    "\n",
    "import tensorflow as tf\n",
    "\n",
    "import pydicom\n",
    "from pydicom.pixel_data_handlers.util import apply_voi_lut"
   ]
  },
  {
   "cell_type": "code",
   "execution_count": 3,
   "id": "thick-silence",
   "metadata": {
    "execution": {
     "iopub.execute_input": "2021-06-16T05:59:07.387742Z",
     "iopub.status.busy": "2021-06-16T05:59:07.386737Z",
     "iopub.status.idle": "2021-06-16T05:59:14.880951Z",
     "shell.execute_reply": "2021-06-16T05:59:14.880289Z",
     "shell.execute_reply.started": "2021-05-23T02:08:45.782353Z"
    },
    "papermill": {
     "duration": 7.601897,
     "end_time": "2021-06-16T05:59:14.881138",
     "exception": false,
     "start_time": "2021-06-16T05:59:07.279241",
     "status": "completed"
    },
    "tags": []
   },
   "outputs": [],
   "source": [
    "TRAIN_PATH = \"../input/siim-covid19-detection/train\"\n",
    "TEST_PATH = \"../input/siim-covid19-detection/test\"\n",
    "FINAL_TRAIN_PATH = \"./dataset/train\"\n",
    "FINAL_TEST_PATH = \"./dataset/test\"\n",
    "\n",
    "HEIGHT,WIDTH = 640,640\n",
    "\n",
    "TRAIN_FILES = tf.io.gfile.glob(TRAIN_PATH+\"/*/*/*.dcm\")\n",
    "TEST_FILES = tf.io.gfile.glob(TEST_PATH+\"/*/*/*.dcm\")\n",
    "\n",
    "train_id,test_id = [], []\n",
    "train_h, test_h = [], []\n",
    "train_w, test_w = [], []"
   ]
  },
  {
   "cell_type": "markdown",
   "id": "interior-tuesday",
   "metadata": {
    "papermill": {
     "duration": 0.101991,
     "end_time": "2021-06-16T05:59:15.085214",
     "exception": false,
     "start_time": "2021-06-16T05:59:14.983223",
     "status": "completed"
    },
    "tags": []
   },
   "source": [
    "<h1 style = \"font-family:'Courier New';font-weight: bold;margin-top: 0px;margin-bottom: 1px;text-align: center;\">Preparing Image Data</h1>"
   ]
  },
  {
   "cell_type": "markdown",
   "id": "suspected-software",
   "metadata": {
    "papermill": {
     "duration": 0.100506,
     "end_time": "2021-06-16T05:59:15.287460",
     "exception": false,
     "start_time": "2021-06-16T05:59:15.186954",
     "status": "completed"
    },
    "tags": []
   },
   "source": [
    "<h2 style=\"font-weight:'bold'; color:red; font-family:verdana; text-align: center;\">What is DICOM format</h2>\n",
    "<p> <b>Digital Imaging and Communications in Medicine</b> (DICOM) is the standard for the communication and management of medical imaging information and related data. DICOM is most commonly used for storing and transmitting medical images enabling the integration of medical imaging devices such as scanners, servers, workstations, printers, network hardware.</p>\n",
    "\n",
    "<a href = \"https://en.wikipedia.org/wiki/DICOM\" style=\"font-weight:'bold'; color:blue; font-family:monospace; text-align: center;\"> Read more about DICOM here</a>\n",
    "\n",
    "<h2 style=\"font-weight:'bold'; color:red; font-family:verdana; text-align: center;\">Why is DICOM used</h2>\n",
    "\n",
    "<p>Following are some of applications of using DICOM format in medical imaging</p>\n",
    "\n",
    "- Collaboration With Existing IT Systems\n",
    "- High-Performance Review\n",
    "- Complete Scanning and Image Reviewing\n",
    "\n",
    "<a href = \"https://www.covetus.com/blog/how-is-dicom-important-beneficial-for-the-healthcare-industry\" style=\"font-weight:'bold'; color:blue; font-family:monospace; text-align: center;\"> Read more about DICOM applications here</a>"
   ]
  },
  {
   "cell_type": "code",
   "execution_count": 4,
   "id": "amazing-hampshire",
   "metadata": {
    "execution": {
     "iopub.execute_input": "2021-06-16T05:59:15.506121Z",
     "iopub.status.busy": "2021-06-16T05:59:15.505327Z",
     "iopub.status.idle": "2021-06-16T05:59:15.508800Z",
     "shell.execute_reply": "2021-06-16T05:59:15.508167Z",
     "shell.execute_reply.started": "2021-05-23T02:08:53.034826Z"
    },
    "papermill": {
     "duration": 0.119316,
     "end_time": "2021-06-16T05:59:15.508949",
     "exception": false,
     "start_time": "2021-06-16T05:59:15.389633",
     "status": "completed"
    },
    "tags": []
   },
   "outputs": [],
   "source": [
    "##---------------------------------------\n",
    "#dicom to pixel array converting function\n",
    "##---------------------------------------\n",
    "\n",
    "# Ref : https://www.kaggle.com/raddar/convert-dicom-to-np-array-the-correct-way\n",
    "def dicom2arr(path, voi_lut = True, fix_monochrome = True):\n",
    "    dicom = pydicom.read_file(path)\n",
    "    \n",
    "    if voi_lut:\n",
    "        arr = apply_voi_lut(dicom.pixel_array, dicom)\n",
    "    else:\n",
    "        arr = dicom.pixel_array\n",
    "               \n",
    "    if fix_monochrome and dicom.PhotometricInterpretation == \"MONOCHROME1\":\n",
    "        arr = np.amax(arr) - arr\n",
    "        \n",
    "    arr = arr - np.min(arr)\n",
    "    arr = arr / np.max(arr)\n",
    "    arr = (arr * 255).astype(np.uint8)\n",
    "        \n",
    "    return arr\n",
    "\n",
    "##-----------------------\n",
    "#resizing the pixel array\n",
    "##-----------------------\n",
    "\n",
    "def resizeArr(arr,is_train=True):\n",
    "    im = Image.fromarray(arr)\n",
    "    if is_train:\n",
    "        train_w.append(im.size[0])\n",
    "        train_h.append(im.size[1])\n",
    "    else:\n",
    "        test_w.append(im.size[0])\n",
    "        test_h.append(im.size[1]) \n",
    "    im = im.resize((HEIGHT,WIDTH),resample= Image.LANCZOS)\n",
    "    return im\n",
    "\n",
    "##------------------------------\n",
    "#Filename for resized jpg images \n",
    "##------------------------------\n",
    "\n",
    "def getFilename(filepath,is_train=True):\n",
    "    '''\n",
    "        Fromat = '{STUDY-ID}_{SUB-STUDY-ID}_{IMAGE-ID}.jpg'\n",
    "    '''\n",
    "    ls = filepath.split(\"/\")\n",
    "    filename = ls[-3]+'_'+ls[-2]+'_'+ls[-1].split(\".\")[0]+\".jpg\"\n",
    "    \n",
    "    if is_train:\n",
    "        train_id.append(ls[-1].split(\".\")[0])\n",
    "    else:\n",
    "        test_id.append(ls[-1].split(\".\")[0])\n",
    "    return filename\n",
    "\n",
    "##-------------------\n",
    "#Finally saving image\n",
    "##-------------------\n",
    "\n",
    "def saveImage(filepath,mainpath=FINAL_TRAIN_PATH,train=True):\n",
    "    arr = dicom2arr(filepath)\n",
    "    arr = resizeArr(arr,train)\n",
    "    path = os.path.join(mainpath,getFilename(filepath,train))\n",
    "    \n",
    "    arr.save(path)"
   ]
  },
  {
   "cell_type": "code",
   "execution_count": 5,
   "id": "parallel-flower",
   "metadata": {
    "execution": {
     "iopub.execute_input": "2021-06-16T05:59:15.722955Z",
     "iopub.status.busy": "2021-06-16T05:59:15.722235Z",
     "iopub.status.idle": "2021-06-16T06:52:59.947510Z",
     "shell.execute_reply": "2021-06-16T06:52:59.949475Z",
     "shell.execute_reply.started": "2021-05-23T02:08:53.048982Z"
    },
    "papermill": {
     "duration": 3224.340517,
     "end_time": "2021-06-16T06:52:59.951201",
     "exception": false,
     "start_time": "2021-06-16T05:59:15.610684",
     "status": "completed"
    },
    "tags": []
   },
   "outputs": [
    {
     "name": "stderr",
     "output_type": "stream",
     "text": [
      "/opt/conda/lib/python3.7/site-packages/pydicom/pixel_data_handlers/numpy_handler.py:341: UserWarning: The length of the pixel data in the dataset (13262360 bytes) indicates it contains excess padding. 216296 bytes will be removed from the end of the data\n",
      "  warnings.warn(msg)\n"
     ]
    }
   ],
   "source": [
    "os.makedirs(FINAL_TRAIN_PATH,exist_ok=True)\n",
    "os.makedirs(FINAL_TEST_PATH,exist_ok=True)\n",
    "\n",
    "#Preparing Training Image Data\n",
    "for filepath in TRAIN_FILES:\n",
    "    saveImage(filepath)\n",
    "\n",
    "#Preparing Test Image Data\n",
    "for filepath in TEST_FILES:\n",
    "    saveImage(filepath,mainpath=FINAL_TEST_PATH,train=False)\n",
    "    \n",
    "# Ref : https://www.kaggle.com/xhlulu/siim-covid-19-convert-to-jpg-256px\n",
    "!tar -zcf train.tar.gz -C \"./dataset/train/\" .\n",
    "!tar -zcf test.tar.gz -C \"./dataset/test/\" ."
   ]
  },
  {
   "cell_type": "markdown",
   "id": "italian-century",
   "metadata": {
    "papermill": {
     "duration": 0.102998,
     "end_time": "2021-06-16T06:53:00.172507",
     "exception": false,
     "start_time": "2021-06-16T06:53:00.069509",
     "status": "completed"
    },
    "tags": []
   },
   "source": [
    "<h1 style = \"font-family:'Courier New';font-weight: bold;margin-top: 0px;margin-bottom: 1px;text-align: center;\">Saving metadata of Images</h1>"
   ]
  },
  {
   "cell_type": "code",
   "execution_count": 6,
   "id": "approved-pollution",
   "metadata": {
    "execution": {
     "iopub.execute_input": "2021-06-16T06:53:00.383208Z",
     "iopub.status.busy": "2021-06-16T06:53:00.382270Z",
     "iopub.status.idle": "2021-06-16T06:53:00.477538Z",
     "shell.execute_reply": "2021-06-16T06:53:00.478399Z",
     "shell.execute_reply.started": "2021-05-22T17:18:40.85992Z"
    },
    "papermill": {
     "duration": 0.205021,
     "end_time": "2021-06-16T06:53:00.478602",
     "exception": false,
     "start_time": "2021-06-16T06:53:00.273581",
     "status": "completed"
    },
    "tags": []
   },
   "outputs": [],
   "source": [
    "# Saving metadata of images into csv files\n",
    "meta_train = pd.DataFrame.from_dict({\n",
    "    \"ImageInstanceUID\" : train_id,\n",
    "    \"width\" : train_w,\n",
    "    \"height\" : train_h\n",
    "})\n",
    "meta_train.to_csv(\"./meta_train.csv\",index=False)\n",
    "\n",
    "meta_test = pd.DataFrame.from_dict({\n",
    "    \"ImageInstanceUID\" : test_id,\n",
    "    \"width\" : test_w,\n",
    "    \"height\" : test_h\n",
    "})\n",
    "meta_test.to_csv(\"./meta_test.csv\",index=False)"
   ]
  },
  {
   "cell_type": "code",
   "execution_count": 7,
   "id": "saving-integrity",
   "metadata": {
    "_kg_hide-input": true,
    "execution": {
     "iopub.execute_input": "2021-06-16T06:53:00.685641Z",
     "iopub.status.busy": "2021-06-16T06:53:00.684870Z",
     "iopub.status.idle": "2021-06-16T06:53:00.737982Z",
     "shell.execute_reply": "2021-06-16T06:53:00.738526Z",
     "shell.execute_reply.started": "2021-05-22T17:18:40.874104Z"
    },
    "papermill": {
     "duration": 0.158007,
     "end_time": "2021-06-16T06:53:00.738695",
     "exception": false,
     "start_time": "2021-06-16T06:53:00.580688",
     "status": "completed"
    },
    "tags": []
   },
   "outputs": [
    {
     "data": {
      "text/html": [
       "<div>\n",
       "<style scoped>\n",
       "    .dataframe tbody tr th:only-of-type {\n",
       "        vertical-align: middle;\n",
       "    }\n",
       "\n",
       "    .dataframe tbody tr th {\n",
       "        vertical-align: top;\n",
       "    }\n",
       "\n",
       "    .dataframe thead th {\n",
       "        text-align: right;\n",
       "    }\n",
       "</style>\n",
       "<table border=\"1\" class=\"dataframe\">\n",
       "  <thead>\n",
       "    <tr style=\"text-align: right;\">\n",
       "      <th></th>\n",
       "      <th>ImageInstanceUID</th>\n",
       "      <th>width</th>\n",
       "      <th>height</th>\n",
       "    </tr>\n",
       "  </thead>\n",
       "  <tbody>\n",
       "    <tr>\n",
       "      <th>0</th>\n",
       "      <td>d8ba599611e5</td>\n",
       "      <td>2836</td>\n",
       "      <td>2336</td>\n",
       "    </tr>\n",
       "    <tr>\n",
       "      <th>1</th>\n",
       "      <td>29b23a11d1e4</td>\n",
       "      <td>4256</td>\n",
       "      <td>3488</td>\n",
       "    </tr>\n",
       "    <tr>\n",
       "      <th>2</th>\n",
       "      <td>b050bdb4721f</td>\n",
       "      <td>2802</td>\n",
       "      <td>2801</td>\n",
       "    </tr>\n",
       "    <tr>\n",
       "      <th>3</th>\n",
       "      <td>7c40e04c6163</td>\n",
       "      <td>2880</td>\n",
       "      <td>2540</td>\n",
       "    </tr>\n",
       "    <tr>\n",
       "      <th>4</th>\n",
       "      <td>a27a126be5c1</td>\n",
       "      <td>2832</td>\n",
       "      <td>2320</td>\n",
       "    </tr>\n",
       "  </tbody>\n",
       "</table>\n",
       "</div>"
      ],
      "text/plain": [
       "  ImageInstanceUID  width  height\n",
       "0     d8ba599611e5   2836    2336\n",
       "1     29b23a11d1e4   4256    3488\n",
       "2     b050bdb4721f   2802    2801\n",
       "3     7c40e04c6163   2880    2540\n",
       "4     a27a126be5c1   2832    2320"
      ]
     },
     "execution_count": 7,
     "metadata": {},
     "output_type": "execute_result"
    }
   ],
   "source": [
    "# Sample metadata of training set\n",
    "meta_train.head()"
   ]
  },
  {
   "cell_type": "code",
   "execution_count": 8,
   "id": "changed-reflection",
   "metadata": {
    "_kg_hide-input": true,
    "execution": {
     "iopub.execute_input": "2021-06-16T06:53:00.945408Z",
     "iopub.status.busy": "2021-06-16T06:53:00.944690Z",
     "iopub.status.idle": "2021-06-16T06:53:00.953588Z",
     "shell.execute_reply": "2021-06-16T06:53:00.954134Z",
     "shell.execute_reply.started": "2021-05-22T17:18:40.892795Z"
    },
    "papermill": {
     "duration": 0.114132,
     "end_time": "2021-06-16T06:53:00.954307",
     "exception": false,
     "start_time": "2021-06-16T06:53:00.840175",
     "status": "completed"
    },
    "tags": []
   },
   "outputs": [
    {
     "data": {
      "text/html": [
       "<div>\n",
       "<style scoped>\n",
       "    .dataframe tbody tr th:only-of-type {\n",
       "        vertical-align: middle;\n",
       "    }\n",
       "\n",
       "    .dataframe tbody tr th {\n",
       "        vertical-align: top;\n",
       "    }\n",
       "\n",
       "    .dataframe thead th {\n",
       "        text-align: right;\n",
       "    }\n",
       "</style>\n",
       "<table border=\"1\" class=\"dataframe\">\n",
       "  <thead>\n",
       "    <tr style=\"text-align: right;\">\n",
       "      <th></th>\n",
       "      <th>ImageInstanceUID</th>\n",
       "      <th>width</th>\n",
       "      <th>height</th>\n",
       "    </tr>\n",
       "  </thead>\n",
       "  <tbody>\n",
       "    <tr>\n",
       "      <th>0</th>\n",
       "      <td>a29c5a68b07b</td>\n",
       "      <td>2828</td>\n",
       "      <td>2320</td>\n",
       "    </tr>\n",
       "    <tr>\n",
       "      <th>1</th>\n",
       "      <td>8d6dea06a032</td>\n",
       "      <td>3344</td>\n",
       "      <td>2422</td>\n",
       "    </tr>\n",
       "    <tr>\n",
       "      <th>2</th>\n",
       "      <td>f785f9c6bbf7</td>\n",
       "      <td>3285</td>\n",
       "      <td>2800</td>\n",
       "    </tr>\n",
       "    <tr>\n",
       "      <th>3</th>\n",
       "      <td>b873cfe5cead</td>\n",
       "      <td>3027</td>\n",
       "      <td>2516</td>\n",
       "    </tr>\n",
       "    <tr>\n",
       "      <th>4</th>\n",
       "      <td>4041be34745f</td>\n",
       "      <td>4256</td>\n",
       "      <td>3488</td>\n",
       "    </tr>\n",
       "  </tbody>\n",
       "</table>\n",
       "</div>"
      ],
      "text/plain": [
       "  ImageInstanceUID  width  height\n",
       "0     a29c5a68b07b   2828    2320\n",
       "1     8d6dea06a032   3344    2422\n",
       "2     f785f9c6bbf7   3285    2800\n",
       "3     b873cfe5cead   3027    2516\n",
       "4     4041be34745f   4256    3488"
      ]
     },
     "execution_count": 8,
     "metadata": {},
     "output_type": "execute_result"
    }
   ],
   "source": [
    "# Sample metadata of test set\n",
    "meta_test.head()"
   ]
  },
  {
   "cell_type": "code",
   "execution_count": 9,
   "id": "herbal-mason",
   "metadata": {
    "execution": {
     "iopub.execute_input": "2021-06-16T06:53:01.184362Z",
     "iopub.status.busy": "2021-06-16T06:53:01.182186Z",
     "iopub.status.idle": "2021-06-16T06:53:01.187000Z",
     "shell.execute_reply": "2021-06-16T06:53:01.187565Z",
     "shell.execute_reply.started": "2021-05-22T16:13:00.745687Z"
    },
    "papermill": {
     "duration": 0.131917,
     "end_time": "2021-06-16T06:53:01.187771",
     "exception": false,
     "start_time": "2021-06-16T06:53:01.055854",
     "status": "completed"
    },
    "tags": []
   },
   "outputs": [],
   "source": [
    "classes_dict = {\n",
    "    0 : \"Negative for Pneumonia\",\n",
    "    1  : \"Typical Appearance\",\n",
    "    2  : \"Indeterminate Appearance\",\n",
    "    3  : \"Atypical Appearance\"\n",
    "}\n",
    "\n",
    "\n",
    "# Format of dictionary : {\"image_id\" : \"study_id\"}\n",
    "id_dict = {}\n",
    "for file in TRAIN_FILES:\n",
    "    ls = file.split(\"/\")\n",
    "    id_dict[ls[-1].split(\".\")[0]] = ls[-3]\n",
    "    \n",
    "##-----------------------------------------\n",
    "#getting filepath from study_id or image_id\n",
    "##-----------------------------------------\n",
    "\n",
    "def get_path(file_id,main_path,id_type):\n",
    "    if id_type == \"study\":\n",
    "        path = tf.io.gfile.glob(main_path+f\"/{file_id}/*/*.dcm\")[0]\n",
    "    else:\n",
    "        path = tf.io.gfile.glob(main_path+f\"/*/*/{file_id}.dcm\")[0]\n",
    "    return path"
   ]
  },
  {
   "cell_type": "markdown",
   "id": "utility-endorsement",
   "metadata": {
    "papermill": {
     "duration": 0.10347,
     "end_time": "2021-06-16T06:53:01.400000",
     "exception": false,
     "start_time": "2021-06-16T06:53:01.296530",
     "status": "completed"
    },
    "tags": []
   },
   "source": [
    "<h1 style = \"font-family:'Courier New';font-weight: bold;margin-top: 0px;margin-bottom: 1px;text-align: center;\">Preparing CSV file for Training</h1>"
   ]
  },
  {
   "cell_type": "code",
   "execution_count": 10,
   "id": "indirect-heaven",
   "metadata": {
    "execution": {
     "iopub.execute_input": "2021-06-16T06:53:01.611037Z",
     "iopub.status.busy": "2021-06-16T06:53:01.610323Z",
     "iopub.status.idle": "2021-06-16T06:53:01.692148Z",
     "shell.execute_reply": "2021-06-16T06:53:01.691469Z",
     "shell.execute_reply.started": "2021-05-22T17:01:04.405306Z"
    },
    "papermill": {
     "duration": 0.190371,
     "end_time": "2021-06-16T06:53:01.692323",
     "exception": false,
     "start_time": "2021-06-16T06:53:01.501952",
     "status": "completed"
    },
    "tags": []
   },
   "outputs": [],
   "source": [
    "# Read CSV files\n",
    "image_df = pd.read_csv(\"../input/siim-covid19-detection/train_image_level.csv\")\n",
    "study_df = pd.read_csv(\"../input/siim-covid19-detection/train_study_level.csv\")"
   ]
  },
  {
   "cell_type": "code",
   "execution_count": 11,
   "id": "unable-spectacular",
   "metadata": {
    "_kg_hide-input": true,
    "execution": {
     "iopub.execute_input": "2021-06-16T06:53:01.910888Z",
     "iopub.status.busy": "2021-06-16T06:53:01.909813Z",
     "iopub.status.idle": "2021-06-16T06:53:01.913933Z",
     "shell.execute_reply": "2021-06-16T06:53:01.914459Z",
     "shell.execute_reply.started": "2021-05-22T17:01:06.067626Z"
    },
    "papermill": {
     "duration": 0.119518,
     "end_time": "2021-06-16T06:53:01.914649",
     "exception": false,
     "start_time": "2021-06-16T06:53:01.795131",
     "status": "completed"
    },
    "tags": []
   },
   "outputs": [
    {
     "data": {
      "text/html": [
       "<div>\n",
       "<style scoped>\n",
       "    .dataframe tbody tr th:only-of-type {\n",
       "        vertical-align: middle;\n",
       "    }\n",
       "\n",
       "    .dataframe tbody tr th {\n",
       "        vertical-align: top;\n",
       "    }\n",
       "\n",
       "    .dataframe thead th {\n",
       "        text-align: right;\n",
       "    }\n",
       "</style>\n",
       "<table border=\"1\" class=\"dataframe\">\n",
       "  <thead>\n",
       "    <tr style=\"text-align: right;\">\n",
       "      <th></th>\n",
       "      <th>id</th>\n",
       "      <th>boxes</th>\n",
       "      <th>label</th>\n",
       "      <th>StudyInstanceUID</th>\n",
       "    </tr>\n",
       "  </thead>\n",
       "  <tbody>\n",
       "    <tr>\n",
       "      <th>0</th>\n",
       "      <td>000a312787f2_image</td>\n",
       "      <td>[{'x': 789.28836, 'y': 582.43035, 'width': 102...</td>\n",
       "      <td>opacity 1 789.28836 582.43035 1815.94498 2499....</td>\n",
       "      <td>5776db0cec75</td>\n",
       "    </tr>\n",
       "    <tr>\n",
       "      <th>1</th>\n",
       "      <td>000c3a3f293f_image</td>\n",
       "      <td>NaN</td>\n",
       "      <td>none 1 0 0 1 1</td>\n",
       "      <td>ff0879eb20ed</td>\n",
       "    </tr>\n",
       "  </tbody>\n",
       "</table>\n",
       "</div>"
      ],
      "text/plain": [
       "                   id                                              boxes  \\\n",
       "0  000a312787f2_image  [{'x': 789.28836, 'y': 582.43035, 'width': 102...   \n",
       "1  000c3a3f293f_image                                                NaN   \n",
       "\n",
       "                                               label StudyInstanceUID  \n",
       "0  opacity 1 789.28836 582.43035 1815.94498 2499....     5776db0cec75  \n",
       "1                                     none 1 0 0 1 1     ff0879eb20ed  "
      ]
     },
     "execution_count": 11,
     "metadata": {},
     "output_type": "execute_result"
    }
   ],
   "source": [
    "# Print sample data of image_level csv file\n",
    "image_df.head(2)"
   ]
  },
  {
   "cell_type": "code",
   "execution_count": 12,
   "id": "dynamic-mongolia",
   "metadata": {
    "_kg_hide-input": true,
    "execution": {
     "iopub.execute_input": "2021-06-16T06:53:02.125909Z",
     "iopub.status.busy": "2021-06-16T06:53:02.125074Z",
     "iopub.status.idle": "2021-06-16T06:53:02.136381Z",
     "shell.execute_reply": "2021-06-16T06:53:02.136870Z",
     "shell.execute_reply.started": "2021-05-22T17:01:14.997048Z"
    },
    "papermill": {
     "duration": 0.120093,
     "end_time": "2021-06-16T06:53:02.137085",
     "exception": false,
     "start_time": "2021-06-16T06:53:02.016992",
     "status": "completed"
    },
    "tags": []
   },
   "outputs": [
    {
     "data": {
      "text/html": [
       "<div>\n",
       "<style scoped>\n",
       "    .dataframe tbody tr th:only-of-type {\n",
       "        vertical-align: middle;\n",
       "    }\n",
       "\n",
       "    .dataframe tbody tr th {\n",
       "        vertical-align: top;\n",
       "    }\n",
       "\n",
       "    .dataframe thead th {\n",
       "        text-align: right;\n",
       "    }\n",
       "</style>\n",
       "<table border=\"1\" class=\"dataframe\">\n",
       "  <thead>\n",
       "    <tr style=\"text-align: right;\">\n",
       "      <th></th>\n",
       "      <th>id</th>\n",
       "      <th>Negative for Pneumonia</th>\n",
       "      <th>Typical Appearance</th>\n",
       "      <th>Indeterminate Appearance</th>\n",
       "      <th>Atypical Appearance</th>\n",
       "    </tr>\n",
       "  </thead>\n",
       "  <tbody>\n",
       "    <tr>\n",
       "      <th>0</th>\n",
       "      <td>00086460a852_study</td>\n",
       "      <td>0</td>\n",
       "      <td>1</td>\n",
       "      <td>0</td>\n",
       "      <td>0</td>\n",
       "    </tr>\n",
       "    <tr>\n",
       "      <th>1</th>\n",
       "      <td>000c9c05fd14_study</td>\n",
       "      <td>0</td>\n",
       "      <td>0</td>\n",
       "      <td>0</td>\n",
       "      <td>1</td>\n",
       "    </tr>\n",
       "  </tbody>\n",
       "</table>\n",
       "</div>"
      ],
      "text/plain": [
       "                   id  Negative for Pneumonia  Typical Appearance  \\\n",
       "0  00086460a852_study                       0                   1   \n",
       "1  000c9c05fd14_study                       0                   0   \n",
       "\n",
       "   Indeterminate Appearance  Atypical Appearance  \n",
       "0                         0                    0  \n",
       "1                         0                    1  "
      ]
     },
     "execution_count": 12,
     "metadata": {},
     "output_type": "execute_result"
    }
   ],
   "source": [
    "# Print sample data of study_level csv file\n",
    "study_df.head(2)"
   ]
  },
  {
   "cell_type": "code",
   "execution_count": 13,
   "id": "organic-geography",
   "metadata": {
    "execution": {
     "iopub.execute_input": "2021-06-16T06:53:02.349470Z",
     "iopub.status.busy": "2021-06-16T06:53:02.348794Z",
     "iopub.status.idle": "2021-06-16T06:53:02.618847Z",
     "shell.execute_reply": "2021-06-16T06:53:02.618222Z",
     "shell.execute_reply.started": "2021-05-22T17:03:18.404519Z"
    },
    "papermill": {
     "duration": 0.375758,
     "end_time": "2021-06-16T06:53:02.619002",
     "exception": false,
     "start_time": "2021-06-16T06:53:02.243244",
     "status": "completed"
    },
    "tags": []
   },
   "outputs": [
    {
     "data": {
      "text/html": [
       "<div>\n",
       "<style scoped>\n",
       "    .dataframe tbody tr th:only-of-type {\n",
       "        vertical-align: middle;\n",
       "    }\n",
       "\n",
       "    .dataframe tbody tr th {\n",
       "        vertical-align: top;\n",
       "    }\n",
       "\n",
       "    .dataframe thead th {\n",
       "        text-align: right;\n",
       "    }\n",
       "</style>\n",
       "<table border=\"1\" class=\"dataframe\">\n",
       "  <thead>\n",
       "    <tr style=\"text-align: right;\">\n",
       "      <th></th>\n",
       "      <th>id</th>\n",
       "      <th>label_id</th>\n",
       "      <th>study_label</th>\n",
       "    </tr>\n",
       "  </thead>\n",
       "  <tbody>\n",
       "    <tr>\n",
       "      <th>0</th>\n",
       "      <td>00086460a852_study</td>\n",
       "      <td>Typical Appearance</td>\n",
       "      <td>1</td>\n",
       "    </tr>\n",
       "  </tbody>\n",
       "</table>\n",
       "</div>"
      ],
      "text/plain": [
       "                   id            label_id  study_label\n",
       "0  00086460a852_study  Typical Appearance            1"
      ]
     },
     "execution_count": 13,
     "metadata": {},
     "output_type": "execute_result"
    }
   ],
   "source": [
    "# Making one-hot of study_level labels and removing other 4 class columns\n",
    "study_df[\"one_hot\"] = study_df.apply(lambda x : np.array([x[\"Negative for Pneumonia\"],\n",
    "                                                        x[\"Typical Appearance\"],\n",
    "                                                        x[\"Indeterminate Appearance\"],\n",
    "                                                        x[\"Atypical Appearance\"]]),axis=1)\n",
    "\n",
    "study_df[\"label_id\"] = study_df[\"one_hot\"].map(lambda x : classes_dict[np.argmax(x)])\n",
    "study_df[\"study_label\"] = study_df[\"one_hot\"].map(lambda x : np.argmax(x))\n",
    "study_df = study_df.drop([\"Negative for Pneumonia\",\"Typical Appearance\",\"Indeterminate Appearance\",\"Atypical Appearance\",\"one_hot\"],axis=1)\n",
    "study_df.head(1)"
   ]
  },
  {
   "cell_type": "code",
   "execution_count": 14,
   "id": "square-match",
   "metadata": {
    "execution": {
     "iopub.execute_input": "2021-06-16T06:53:02.840570Z",
     "iopub.status.busy": "2021-06-16T06:53:02.839855Z",
     "iopub.status.idle": "2021-06-16T06:53:02.841851Z",
     "shell.execute_reply": "2021-06-16T06:53:02.842364Z",
     "shell.execute_reply.started": "2021-05-22T17:04:52.260208Z"
    },
    "papermill": {
     "duration": 0.120535,
     "end_time": "2021-06-16T06:53:02.842554",
     "exception": false,
     "start_time": "2021-06-16T06:53:02.722019",
     "status": "completed"
    },
    "tags": []
   },
   "outputs": [],
   "source": [
    "# Renaming \"id\" to \"ImageInstanceUID\" and \"id\" to \"StudyInstanceUID\" for better understanding\n",
    "image_df[\"id\"] = image_df[\"id\"].map(lambda x : x.replace(\"_image\",\"\"))\n",
    "image_df.rename(columns={'id':\"ImageInstanceUID\",'label':\"image_label\"},inplace=True)\n",
    "\n",
    "study_df[\"id\"] = study_df[\"id\"].map(lambda x : x.replace(\"_study\",\"\"))\n",
    "study_df.rename(columns={\"id\" : \"StudyInstanceUID\"},inplace=True)"
   ]
  },
  {
   "cell_type": "markdown",
   "id": "modern-wireless",
   "metadata": {
    "papermill": {
     "duration": 0.101923,
     "end_time": "2021-06-16T06:53:03.047128",
     "exception": false,
     "start_time": "2021-06-16T06:53:02.945205",
     "status": "completed"
    },
    "tags": []
   },
   "source": [
    "<h3>In the below cell I used <i>ast</i> library to convert <b>string of boxes columns</b>  into <b>dictionary type</b></h3>\n",
    "\n",
    "<h2 style=\"font-weight:'bold'; color:red; font-family:verdana; text-align: center;\">What is ast library</h2>\n",
    "\n",
    "<h4>The ast (<b>Abstract Syntax Tree</b>) module helps Python applications to process trees of the Python abstract syntax grammar.</h4>\n",
    "\n",
    "<a href = \"https://docs.python.org/3/library/ast.html\" style=\"font-weight:'bold'; color:blue; font-family:monospace; text-align: center;\"> Read more about AST here</a>\n",
    "\n",
    "<img src=\"https://libcst.readthedocs.io/en/latest/_images/graphviz-d27e3495fa9bb130d76879db599060e8039a9fc5.png\" height=\"500\" width=\"500\" style=\"display: block;margin-left: auto;margin-right: auto;\"> "
   ]
  },
  {
   "cell_type": "code",
   "execution_count": 15,
   "id": "ethical-april",
   "metadata": {
    "execution": {
     "iopub.execute_input": "2021-06-16T06:53:03.260917Z",
     "iopub.status.busy": "2021-06-16T06:53:03.260189Z",
     "iopub.status.idle": "2021-06-16T06:53:03.679669Z",
     "shell.execute_reply": "2021-06-16T06:53:03.679121Z",
     "shell.execute_reply.started": "2021-05-22T17:05:23.866878Z"
    },
    "papermill": {
     "duration": 0.528573,
     "end_time": "2021-06-16T06:53:03.679835",
     "exception": false,
     "start_time": "2021-06-16T06:53:03.151262",
     "status": "completed"
    },
    "tags": []
   },
   "outputs": [
    {
     "data": {
      "text/html": [
       "<div>\n",
       "<style scoped>\n",
       "    .dataframe tbody tr th:only-of-type {\n",
       "        vertical-align: middle;\n",
       "    }\n",
       "\n",
       "    .dataframe tbody tr th {\n",
       "        vertical-align: top;\n",
       "    }\n",
       "\n",
       "    .dataframe thead th {\n",
       "        text-align: right;\n",
       "    }\n",
       "</style>\n",
       "<table border=\"1\" class=\"dataframe\">\n",
       "  <thead>\n",
       "    <tr style=\"text-align: right;\">\n",
       "      <th></th>\n",
       "      <th>ImageInstanceUID</th>\n",
       "      <th>StudyInstanceUID</th>\n",
       "      <th>label_id</th>\n",
       "      <th>study_label</th>\n",
       "      <th>height</th>\n",
       "      <th>width</th>\n",
       "      <th>boxes</th>\n",
       "      <th>image_label</th>\n",
       "    </tr>\n",
       "  </thead>\n",
       "  <tbody>\n",
       "    <tr>\n",
       "      <th>0</th>\n",
       "      <td>000a312787f2</td>\n",
       "      <td>5776db0cec75</td>\n",
       "      <td>Typical Appearance</td>\n",
       "      <td>1</td>\n",
       "      <td>3488</td>\n",
       "      <td>4256</td>\n",
       "      <td>[{'x': 789.28836, 'y': 582.43035, 'width': 102...</td>\n",
       "      <td>opacity 1 789.28836 582.43035 1815.94498 2499....</td>\n",
       "    </tr>\n",
       "    <tr>\n",
       "      <th>1</th>\n",
       "      <td>000c3a3f293f</td>\n",
       "      <td>ff0879eb20ed</td>\n",
       "      <td>Negative for Pneumonia</td>\n",
       "      <td>0</td>\n",
       "      <td>2320</td>\n",
       "      <td>2832</td>\n",
       "      <td>[{'x': 0, 'y': 0, 'width': 1, 'height': 1}]</td>\n",
       "      <td>none 1 0 0 1 1</td>\n",
       "    </tr>\n",
       "    <tr>\n",
       "      <th>2</th>\n",
       "      <td>0012ff7358bc</td>\n",
       "      <td>9d514ce429a7</td>\n",
       "      <td>Typical Appearance</td>\n",
       "      <td>1</td>\n",
       "      <td>2544</td>\n",
       "      <td>3056</td>\n",
       "      <td>[{'x': 677.42216, 'y': 197.97662, 'width': 867...</td>\n",
       "      <td>opacity 1 677.42216 197.97662 1545.21983 1197....</td>\n",
       "    </tr>\n",
       "    <tr>\n",
       "      <th>3</th>\n",
       "      <td>001398f4ff4f</td>\n",
       "      <td>28dddc8559b2</td>\n",
       "      <td>Atypical Appearance</td>\n",
       "      <td>3</td>\n",
       "      <td>3520</td>\n",
       "      <td>4280</td>\n",
       "      <td>[{'x': 2729, 'y': 2181.33331, 'width': 948.000...</td>\n",
       "      <td>opacity 1 2729 2181.33331 3677.00012 2785.33331</td>\n",
       "    </tr>\n",
       "    <tr>\n",
       "      <th>4</th>\n",
       "      <td>001bd15d1891</td>\n",
       "      <td>dfd9fdd85a3e</td>\n",
       "      <td>Typical Appearance</td>\n",
       "      <td>1</td>\n",
       "      <td>2800</td>\n",
       "      <td>3408</td>\n",
       "      <td>[{'x': 623.23328, 'y': 1050, 'width': 714, 'he...</td>\n",
       "      <td>opacity 1 623.23328 1050 1337.23328 2156 opaci...</td>\n",
       "    </tr>\n",
       "  </tbody>\n",
       "</table>\n",
       "</div>"
      ],
      "text/plain": [
       "  ImageInstanceUID StudyInstanceUID                label_id  study_label  \\\n",
       "0     000a312787f2     5776db0cec75      Typical Appearance            1   \n",
       "1     000c3a3f293f     ff0879eb20ed  Negative for Pneumonia            0   \n",
       "2     0012ff7358bc     9d514ce429a7      Typical Appearance            1   \n",
       "3     001398f4ff4f     28dddc8559b2     Atypical Appearance            3   \n",
       "4     001bd15d1891     dfd9fdd85a3e      Typical Appearance            1   \n",
       "\n",
       "   height  width                                              boxes  \\\n",
       "0    3488   4256  [{'x': 789.28836, 'y': 582.43035, 'width': 102...   \n",
       "1    2320   2832        [{'x': 0, 'y': 0, 'width': 1, 'height': 1}]   \n",
       "2    2544   3056  [{'x': 677.42216, 'y': 197.97662, 'width': 867...   \n",
       "3    3520   4280  [{'x': 2729, 'y': 2181.33331, 'width': 948.000...   \n",
       "4    2800   3408  [{'x': 623.23328, 'y': 1050, 'width': 714, 'he...   \n",
       "\n",
       "                                         image_label  \n",
       "0  opacity 1 789.28836 582.43035 1815.94498 2499....  \n",
       "1                                     none 1 0 0 1 1  \n",
       "2  opacity 1 677.42216 197.97662 1545.21983 1197....  \n",
       "3    opacity 1 2729 2181.33331 3677.00012 2785.33331  \n",
       "4  opacity 1 623.23328 1050 1337.23328 2156 opaci...  "
      ]
     },
     "execution_count": 15,
     "metadata": {},
     "output_type": "execute_result"
    }
   ],
   "source": [
    "train_df = pd.merge(image_df,study_df,on = \"StudyInstanceUID\") # Merging study_df and image_df\n",
    "\n",
    "try :\n",
    "    train_df = pd.merge(train_df,meta_train,on = \"ImageInstanceUID\") # Merging to meta_train for height,width\n",
    "except:\n",
    "    pass\n",
    "\n",
    "# Filling NaN values \n",
    "train_df[\"boxes\"].fillna(\"[{'x':0,'y':0,'width':1,'height':1}]\",inplace=True)\n",
    "temp = train_df # for going through the data\n",
    "train_df[\"boxes\"] = train_df[\"boxes\"].map(lambda x : ast.literal_eval(x))\n",
    "\n",
    "try:\n",
    "    columns = [\"ImageInstanceUID\",\"StudyInstanceUID\",\"label_id\",\"study_label\",\"height\",\"width\",\"boxes\",\"image_label\"] # for proper order\n",
    "    train_df = train_df[columns]\n",
    "except:\n",
    "    columns = [\"ImageInstanceUID\",\"StudyInstanceUID\",\"label_id\",\"study_label\",\"boxes\",\"image_label\"] # for proper order\n",
    "    train_df = train_df[columns]\n",
    "\n",
    "train_df.to_csv(\"./train.csv\",index=False)\n",
    "train_df.head()"
   ]
  },
  {
   "cell_type": "code",
   "execution_count": 16,
   "id": "academic-hamilton",
   "metadata": {
    "execution": {
     "iopub.execute_input": "2021-06-16T06:53:03.894426Z",
     "iopub.status.busy": "2021-06-16T06:53:03.893508Z",
     "iopub.status.idle": "2021-06-16T06:53:04.171812Z",
     "shell.execute_reply": "2021-06-16T06:53:04.170985Z"
    },
    "papermill": {
     "duration": 0.388273,
     "end_time": "2021-06-16T06:53:04.172035",
     "exception": false,
     "start_time": "2021-06-16T06:53:03.783762",
     "status": "completed"
    },
    "tags": []
   },
   "outputs": [],
   "source": [
    "import shutil\n",
    "shutil.rmtree(\"./dataset\",ignore_errors=False)"
   ]
  },
  {
   "cell_type": "markdown",
   "id": "loving-craft",
   "metadata": {
    "papermill": {
     "duration": 0.103252,
     "end_time": "2021-06-16T06:53:04.399570",
     "exception": false,
     "start_time": "2021-06-16T06:53:04.296318",
     "status": "completed"
    },
    "tags": []
   },
   "source": [
    "<h1 style=\"font-weight:'bold'; color:blue; font-family:verdana; text-align: center; background-image: url(https://image.freepik.com/free-vector/gradient-background-green-shades_23-2148363157.jpg);\">Do <b>UPVOTE</b> if you found this Notebook useful😊</h1>\n",
    "\n",
    "<img src=\"https://external-preview.redd.it/vWYcdynWxuFy6bKYpZwuw6KiNgYuBPM6daHCwWRs4mo.png?auto=webp&s=fe3bf857b3c9f1369aed1ea0bc5e1acd8ae39449\" height=\"200\" width=\"200\" style=\"display: block;margin-left: auto;margin-right: auto;\"> "
   ]
  }
 ],
 "metadata": {
  "kernelspec": {
   "display_name": "Python 3",
   "language": "python",
   "name": "python3"
  },
  "language_info": {
   "codemirror_mode": {
    "name": "ipython",
    "version": 3
   },
   "file_extension": ".py",
   "mimetype": "text/x-python",
   "name": "python",
   "nbconvert_exporter": "python",
   "pygments_lexer": "ipython3",
   "version": "3.7.10"
  },
  "papermill": {
   "default_parameters": {},
   "duration": 3324.072203,
   "end_time": "2021-06-16T06:53:07.172221",
   "environment_variables": {},
   "exception": null,
   "input_path": "__notebook__.ipynb",
   "output_path": "__notebook__.ipynb",
   "parameters": {},
   "start_time": "2021-06-16T05:57:43.100018",
   "version": "2.3.3"
  }
 },
 "nbformat": 4,
 "nbformat_minor": 5
}
